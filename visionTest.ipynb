{
 "cells": [
  {
   "cell_type": "code",
   "execution_count": 1,
   "metadata": {},
   "outputs": [],
   "source": [
    "import numpy as np\n",
    "import cv2\n",
    "from kociemba import solve\n",
    "import matplotlib.pyplot as plt\n",
    "import serial"
   ]
  },
  {
   "cell_type": "code",
   "execution_count": 2,
   "metadata": {},
   "outputs": [
    {
     "data": {
      "text/plain": [
       "'V4L2'"
      ]
     },
     "execution_count": 2,
     "metadata": {},
     "output_type": "execute_result"
    }
   ],
   "source": [
    "capFront = cv2.VideoCapture(5)\n",
    "capBack = cv2.VideoCapture(3)\n",
    "capFront.set(cv2.CAP_PROP_BRIGHTNESS,       150.0 )#0.50 default\n",
    "capFront.set(cv2.CAP_PROP_CONTRAST,         100.0 )#0.15 default\n",
    "capFront.set(cv2.CAP_PROP_SATURATION,       105.0 )#0.15 default\n",
    "capBack.set(cv2.CAP_PROP_BRIGHTNESS,       150.0 )#0.50 default\n",
    "capBack.set(cv2.CAP_PROP_CONTRAST,         100.0 )#0.15 default\n",
    "capBack.set(cv2.CAP_PROP_SATURATION,       105.0 )#0.15 default\n",
    "capFront.getBackendName()"
   ]
  },
  {
   "cell_type": "code",
   "execution_count": 3,
   "metadata": {},
   "outputs": [
    {
     "ename": "",
     "evalue": "",
     "output_type": "error",
     "traceback": [
      "\u001b[1;31mDer Kernel ist beim Ausführen von Code in der aktuellen Zelle oder einer vorherigen Zelle abgestürzt. Bitte überprüfen Sie den Code in der/den Zelle(n), um eine mögliche Fehlerursache zu identifizieren. Klicken Sie <a href='https://aka.ms/vscodeJupyterKernelCrash'>hier</a>, um weitere Informationen zu erhalten. Weitere Details finden Sie in Jupyter <a href='command:jupyter.viewOutput'>log</a>."
     ]
    }
   ],
   "source": [
    "while True:\n",
    "    ret1, frameFront = capFront.read()\n",
    "    ret2, frameBack = capBack.read()\n",
    "    if ret1:\n",
    "        cv2.imshow('Front',frameFront)\n",
    "        if(cv2.waitKey(1) & 0xFF == ord('q')):\n",
    "            break\n",
    "    if ret2:\n",
    "        cv2.imshow('Back',frameBack)\n",
    "        if(cv2.waitKey(1) & 0xFF == ord('q')):\n",
    "            break\n",
    "        \n",
    "cv2.destroyAllWindows()"
   ]
  },
  {
   "cell_type": "code",
   "execution_count": 4,
   "metadata": {},
   "outputs": [
    {
     "name": "stdout",
     "output_type": "stream",
     "text": [
      "[[472, 416]]\n"
     ]
    }
   ],
   "source": [
    "import numpy as np\n",
    "import cv2 as cv\n",
    "import os\n",
    "import sys\n",
    "\n",
    "mylist = []\n",
    "\n",
    "def print_coord(event,x,y,flags,param):\n",
    "    if event == cv.EVENT_LBUTTONDOWN:\n",
    "        mylist.append([x,y])\n",
    "ret, img = capFront.read()\n",
    "imgheight, imgwidth = img.shape[:2]\n",
    "resizedImg = cv.resize(img,(int(imgwidth), int(imgheight)), interpolation = cv.INTER_AREA)\n",
    "cv.namedWindow('Get Coordinates')\n",
    "cv.setMouseCallback('Get Coordinates',print_coord)\n",
    "cv.imshow('Get Coordinates',resizedImg)\n",
    "cv.waitKey(0)\n",
    "cv.destroyAllWindows()\n",
    "print(mylist)\n",
    "mat = np.array(mylist)"
   ]
  },
  {
   "cell_type": "code",
   "execution_count": 18,
   "metadata": {},
   "outputs": [],
   "source": [
    "mat = np.array([[376, 58],\n",
    "                [455, 107],\n",
    "                [515, 138],\n",
    "                [382, 173], \n",
    "                [444, 239], \n",
    "                [528, 273], \n",
    "                [398, 308], \n",
    "                [473, 338], \n",
    "                [532, 376], \n",
    "                [119, 131], \n",
    "                [186, 106], \n",
    "                [281, 59], \n",
    "                [103, 269], \n",
    "                [207, 229], \n",
    "                [291, 171], \n",
    "                [100, 354], \n",
    "                [193, 334], \n",
    "                [295, 301], \n",
    "                [335, 388], \n",
    "                [421, 417], \n",
    "                [486, 436], \n",
    "                [219, 413], \n",
    "                [322, 421], \n",
    "                [388, 445], \n",
    "                [136, 431], \n",
    "                [220, 439], \n",
    "                [261, 448]])\n",
    "\n",
    "retv, img2 = capFront.read()\n",
    "for i in range(27):\n",
    "    img3 = cv2.circle(img2,mat[i],10,(255,0,0),1)\n",
    "cv2.imshow('kekw',img3)\n",
    "cv2.waitKey(0)\n",
    "cv2.destroyAllWindows() "
   ]
  },
  {
   "cell_type": "code",
   "execution_count": 19,
   "metadata": {},
   "outputs": [],
   "source": [
    "def guessColor( v, r ):\n",
    "    colorCenters = (\n",
    "    ( np.array([85.0, 75.0, 60.0]), np.array([150.0, 225.0, 255.0]),'B'),\n",
    "    ( np.array([0.0, 70.0, 70.0]), np.array([20.0, 255.0, 255.0]),\"O\" ),\n",
    "    ( np.array([20.5, 40.0, 35.0]),np.array([47.0, 255.0, 255.0]),  \"Y\" ),\n",
    "    ( np.array([47.5, 35.0, 40.0]), np.array([84.0, 255.0, 255.0]),\"G\" ),\n",
    "    (np.array([0.0, 0.0, 100.0]), np.array([180.0, 60.0, 255.0]) ,\"W\" ),\n",
    "    ( np.array([160.0, 60.0,  80.0]), np.array([180.0, 255.0, 255.0]),\"R\" )\n",
    "    )\n",
    "\n",
    "    for min, max, code in colorCenters:\n",
    "        if ((min[0] <= v[0] <= max[0]) and (min[1] <= v[1] <= max[1]) and (min[2] <= v[2] <= max[2])):\n",
    "            if code == 'R':\n",
    "                #print(r)\n",
    "                if (r[0] < 100.0 or (r[0] < 140.0 and r[1] > 70.0 and  r[2] > 75.0) or (r[0] < 200 and r[1] > 120.0 and r[2] > 130.0)):\n",
    "                    code = 'O'\n",
    "            return code\n",
    "    return \"X\""
   ]
  },
  {
   "cell_type": "code",
   "execution_count": 20,
   "metadata": {},
   "outputs": [],
   "source": [
    "ret, frameBack = capBack.read() \n",
    "if ret:\n",
    "    rgb = cv2.cvtColor(frameBack, cv2.COLOR_BGR2RGB)\n",
    "    hsv = cv2.cvtColor(frameBack, cv2.COLOR_BGR2HSV)\n",
    "\n",
    "    colorSamplesB = []\n",
    "    codeB = []\n",
    "    w = 8\n",
    "    h = 8\n",
    "    matBack = np.array([[496, 60], #Up\n",
    "                    [459, 80],\n",
    "                    [363, 114],\n",
    "                    [431, 40],\n",
    "                    [351, 80], #UpCenter\n",
    "                    [257, 95],\n",
    "                    [280, 37],\n",
    "                    [250, 51],\n",
    "                    [170, 80],\n",
    "                    [131, 156], #Right\n",
    "                    [221, 183],\n",
    "                    [325, 219],\n",
    "                    [138, 257],\n",
    "                    [246, 279], #RightCenter\n",
    "                    [332, 349],\n",
    "                    [165, 386],\n",
    "                    [237, 402],\n",
    "                    [331, 448],\n",
    "                    [419, 220], #Back\n",
    "                    [498, 160],\n",
    "                    [550, 117],\n",
    "                    [421, 332],\n",
    "                    [470, 255], #BackCenter\n",
    "                    [542, 220],\n",
    "                    [427, 434],\n",
    "                    [482, 376],\n",
    "                    [524, 355]])\n",
    "    for lines in matBack:\n",
    "        x1,y1 = lines\n",
    "        blockHSV = hsv[(y1-h//2):(y1+h//2),(x1-w//2):(x1+w//2)]\n",
    "        block_h = blockHSV[:,:, 0 ]\n",
    "        block_s = blockHSV[:,:, 1 ]\n",
    "        block_v = blockHSV[:,:, 2 ]\n",
    "        blockRGB = rgb[(y1-h//2):(y1+h//2),(x1-w//2):(x1+w//2)]\n",
    "        block_r = blockRGB[:,:, 0 ]\n",
    "        block_g = blockRGB[:,:, 1 ]\n",
    "        block_b = blockRGB[:,:, 2 ]\n",
    "        #print(block_h)\n",
    "        clrh = np.array((np.median(block_h),np.median( block_s ), np.median( block_v ))) \n",
    "        clrr = np.array((np.median(block_r),np.median( block_g ), np.median( block_b ))) \n",
    "        \n",
    "        colorSamplesB.append(clrr)\n",
    "        codeB.append(guessColor(clrh,clrr))\n",
    "        #print(clr)\n",
    "    for i in range(27):\n",
    "        if codeB[i] == 'R':\n",
    "            print(colorSamplesB[i])\n",
    "\n",
    "        img3 = cv2.circle(frameBack,matBack[i],10,(255,0,0),1)\n",
    "        font = cv2.FONT_HERSHEY_SIMPLEX\n",
    "        img4 = cv2.putText(img3,codeB[i],matBack[i],font,0.8,(255,255,0),1,cv2.LINE_AA) \n",
    "    cv2.imshow('kekw',img4)\n",
    "    cv2.waitKey(0)\n",
    "    cv2.destroyAllWindows()"
   ]
  },
  {
   "cell_type": "code",
   "execution_count": 21,
   "metadata": {},
   "outputs": [
    {
     "name": "stdout",
     "output_type": "stream",
     "text": [
      "[241.  176.   63.5]\n",
      "[208.  105.5  24. ]\n",
      "[206.  98.  26.]\n",
      "[157.  75.  13.]\n",
      "[219.5 107.   29. ]\n"
     ]
    }
   ],
   "source": [
    "ret, frameFront = capFront.read() \n",
    "hsv = cv2.cvtColor(frameFront, cv2.COLOR_BGR2HSV)\n",
    "rgb = cv2.cvtColor(frameFront, cv2.COLOR_BGR2RGB)\n",
    "\n",
    "colorSamplesF = []\n",
    "codeF = []\n",
    "w = 8\n",
    "h = 8\n",
    "matFront = np.array([[376, 58], #Front\n",
    "                [450, 107],\n",
    "                [505, 128],\n",
    "                [382, 173], \n",
    "                [444, 239], #FrontCenter\n",
    "                [528, 273], \n",
    "                [398, 308], \n",
    "                [473, 338], \n",
    "                [532, 376], \n",
    "                [119, 131], #Left\n",
    "                [186, 106], \n",
    "                [281, 59], \n",
    "                [103, 269], \n",
    "                [207, 229], #LeftCenter\n",
    "                [291, 171], \n",
    "                [100, 354], \n",
    "                [193, 334], \n",
    "                [295, 301], \n",
    "                [322, 398], #Down\n",
    "                [411, 417], \n",
    "                [480, 425], \n",
    "                [224, 418], \n",
    "                [322, 421], #DownCenter\n",
    "                [395, 442],\n",
    "                [136, 431], \n",
    "                [225, 439], \n",
    "                [260, 453]])\n",
    "for lines in matFront:\n",
    "    x1,y1 = lines\n",
    "    blockHSV = hsv[(y1-h//2):(y1+h//2),(x1-w//2):(x1+w//2)]\n",
    "    block_h = blockHSV[:,:, 0 ]\n",
    "    block_s = blockHSV[:,:, 1 ]\n",
    "    block_v = blockHSV[:,:, 2 ]\n",
    "    blockRGB = rgb[(y1-h//2):(y1+h//2),(x1-w//2):(x1+w//2)]\n",
    "    block_r = blockRGB[:,:, 0 ]\n",
    "    block_g = blockRGB[:,:, 1 ]\n",
    "    block_b = blockRGB[:,:, 2 ]\n",
    "    clrh = np.array((np.median(block_h),np.median( block_s ), np.median( block_v )))\n",
    "    clrr = np.array((np.median(block_r),np.median( block_g ), np.median( block_b )))  \n",
    "    codeF.append(guessColor(clrh, clrr))\n",
    "    colorSamplesF.append(clrr)\n",
    "    #print(clr)\n",
    "codeF[26] = 'X'\n",
    "for i in range(27):\n",
    "    if codeF[i] == 'O':\n",
    "        print(colorSamplesF[i])\n",
    "    img3 = cv2.circle(frameFront,matFront[i],10,(255,0,0),1)\n",
    "    font = cv2.FONT_HERSHEY_SIMPLEX\n",
    "    img4 = cv2.putText(img3,codeF[i],matFront[i],font,0.8,(255,255,0),1,cv2.LINE_AA) \n",
    "cv2.imshow('kekw',img4)\n",
    "cv2.waitKey(0)\n",
    "cv2.destroyAllWindows()"
   ]
  },
  {
   "cell_type": "code",
   "execution_count": 251,
   "metadata": {},
   "outputs": [
    {
     "name": "stdout",
     "output_type": "stream",
     "text": [
      "['Y', 'O', 'O', 'R', 'G', 'B', 'B', 'W', 'B', 'O', 'Y', 'G', 'R', 'W', 'G', 'B', 'O', 'O', 'R', 'G', 'Y', 'Y', 'R', 'G', 'G', 'G', 'R', 'W', 'Y', 'Y', 'B', 'B', 'B', 'G', 'W', 'X', 'G', 'W', 'W', 'O', 'Y', 'R', 'O', 'R', 'R', 'W', 'W', 'R', 'O', 'O', 'Y', 'B', 'B', 'Y']\n"
     ]
    }
   ],
   "source": [
    "colorCode = codeB[0:18] + codeF[0:9] + codeF[18:27] + codeF[9:18] + codeB[18:27]\n",
    "len(colorCode)\n",
    "print(colorCode)"
   ]
  },
  {
   "cell_type": "code",
   "execution_count": 252,
   "metadata": {},
   "outputs": [],
   "source": [
    "ser = serial.Serial()\n",
    "ser.baudrate = 115200\n",
    "ser.port = 'COM6'\n",
    "ser.open()"
   ]
  },
  {
   "cell_type": "code",
   "execution_count": 253,
   "metadata": {},
   "outputs": [],
   "source": [
    "colors = ['W','B','R','O','G','Y']\n",
    "for color in colors:\n",
    "    if colorCode.count(color) == 8:\n",
    "        colorCode = list(map(lambda x: x.replace('X', color), colorCode))\n",
    "    if colorCode.count(color) >= 10:\n",
    "        ser.write('F U B D L R'.encode())\n",
    "\n",
    "colorDict = {\n",
    "    colorCode[4] : 'U',\n",
    "    colorCode[13] : 'R',\n",
    "    colorCode[22] : 'F',\n",
    "    colorCode[31] : 'D',\n",
    "    colorCode[40] : 'L',\n",
    "    colorCode[49] : 'B'\n",
    "}  \n",
    "\n",
    "\n",
    "\n"
   ]
  },
  {
   "cell_type": "code",
   "execution_count": 254,
   "metadata": {},
   "outputs": [
    {
     "name": "stdout",
     "output_type": "stream",
     "text": [
      "{'G': 'U', 'W': 'R', 'R': 'F', 'B': 'D', 'Y': 'L', 'O': 'B'}\n"
     ]
    }
   ],
   "source": [
    "print(colorDict)"
   ]
  },
  {
   "cell_type": "code",
   "execution_count": 255,
   "metadata": {},
   "outputs": [
    {
     "name": "stdout",
     "output_type": "stream",
     "text": [
      "G -> U 9\n",
      "W -> R 9\n",
      "R -> F 9\n",
      "B -> D 9\n",
      "Y -> L 9\n",
      "O -> B 9\n",
      "YOORGBBWBOYGRWGBOORGYYRGGGRWYYBBBGWWGWWOYRORRWWROOYBBY LBBFUDDRDBLUFRUDBBFULLFUUUFRLLDDDURRURRBLFBFFRRFBBLDDL\n"
     ]
    }
   ],
   "source": [
    "cubestring = \"\"\n",
    "colorstring = \"\"\n",
    "colorstring = colorstring.join(colorCode)\n",
    "cubestring = cubestring.join(map(colorDict.get,colorCode,colorCode))\n",
    "for color in colorDict:\n",
    "    print(color, '->', colorDict[color], cubestring.count(colorDict[color]))\n",
    "print (colorstring, cubestring)"
   ]
  },
  {
   "cell_type": "code",
   "execution_count": 256,
   "metadata": {},
   "outputs": [
    {
     "name": "stdout",
     "output_type": "stream",
     "text": [
      "U' R B2 D L' B U R' L B' D2 R2 U R2 D' F2 B2 U' L2 D'\n"
     ]
    }
   ],
   "source": [
    "solveString = solve(cubestring)\n",
    "print(solveString)"
   ]
  },
  {
   "cell_type": "code",
   "execution_count": 257,
   "metadata": {},
   "outputs": [
    {
     "data": {
      "text/plain": [
       "53"
      ]
     },
     "execution_count": 257,
     "metadata": {},
     "output_type": "execute_result"
    }
   ],
   "source": [
    "ser.write(solveString.encode())\n"
   ]
  },
  {
   "cell_type": "code",
   "execution_count": 16,
   "metadata": {},
   "outputs": [],
   "source": [
    "#ser.close()\n",
    "capFront.release()\n",
    "capBack.release()"
   ]
  },
  {
   "cell_type": "code",
   "execution_count": null,
   "metadata": {},
   "outputs": [],
   "source": []
  }
 ],
 "metadata": {
  "kernelspec": {
   "display_name": "Python 3",
   "language": "python",
   "name": "python3"
  },
  "language_info": {
   "codemirror_mode": {
    "name": "ipython",
    "version": 3
   },
   "file_extension": ".py",
   "mimetype": "text/x-python",
   "name": "python",
   "nbconvert_exporter": "python",
   "pygments_lexer": "ipython3",
   "version": "3.10.6"
  },
  "orig_nbformat": 4,
  "vscode": {
   "interpreter": {
    "hash": "916dbcbb3f70747c44a77c7bcd40155683ae19c65e1c03b4aa3499c5328201f1"
   }
  }
 },
 "nbformat": 4,
 "nbformat_minor": 2
}
